{
 "cells": [
  {
   "cell_type": "code",
   "execution_count": 3,
   "id": "14107a80-09d3-473e-83dd-490109064bcf",
   "metadata": {
    "tags": []
   },
   "outputs": [],
   "source": [
    "import pandas as pd\n",
    "from pathlib import Path\n",
    "import xarray as xr\n",
    "import matplotlib.pyplot as plt"
   ]
  },
  {
   "cell_type": "code",
   "execution_count": 4,
   "id": "dc0f5cc3-ce8d-4d66-968b-5d653596920b",
   "metadata": {
    "tags": []
   },
   "outputs": [],
   "source": [
    "%load_ext autoreload \n",
    "%autoreload 2"
   ]
  },
  {
   "cell_type": "code",
   "execution_count": 5,
   "id": "c32196b7-caa8-485e-a958-da4c350fab03",
   "metadata": {
    "tags": []
   },
   "outputs": [],
   "source": [
    "from is2kml import ds2df,kml2ds"
   ]
  },
  {
   "cell_type": "code",
   "execution_count": 6,
   "id": "008fa090-31dd-4c38-85c5-af37f398a879",
   "metadata": {
    "tags": []
   },
   "outputs": [],
   "source": [
    "fns = sorted( Path('/home/jovyan/shared-public/ICESat-2-Hackweek/KMLs').glob('*.kml')  )"
   ]
  },
  {
   "cell_type": "code",
   "execution_count": 8,
   "id": "da7b02db-7de3-4195-a6dd-85f22ab6ae65",
   "metadata": {
    "tags": []
   },
   "outputs": [
    {
     "data": {
      "text/plain": [
       "'IS2_RGT_0001_cycle14_22-Dec-2021'"
      ]
     },
     "execution_count": 8,
     "metadata": {},
     "output_type": "execute_result"
    }
   ],
   "source": [
    "fns[0].stem"
   ]
  },
  {
   "cell_type": "code",
   "execution_count": 13,
   "id": "1c7f4494-94f7-40df-bf42-f9625c75e7f5",
   "metadata": {
    "tags": []
   },
   "outputs": [
    {
     "data": {
      "text/plain": [
       "1387"
      ]
     },
     "execution_count": 13,
     "metadata": {},
     "output_type": "execute_result"
    }
   ],
   "source": [
    "fns21 = [fn for fn in fns if fn.stem.split('_')[3]=='cycle21']\n",
    "len(fns21)"
   ]
  },
  {
   "cell_type": "code",
   "execution_count": null,
   "id": "3cf60414-6c37-4661-afaf-3a0f886f0dd8",
   "metadata": {},
   "outputs": [],
   "source": []
  },
  {
   "cell_type": "code",
   "execution_count": null,
   "id": "8ef9c059-2ae3-4207-87f3-9e943d388486",
   "metadata": {},
   "outputs": [],
   "source": []
  },
  {
   "cell_type": "code",
   "execution_count": 14,
   "id": "c275c062-68dc-43c8-8551-7aa9b5eb3d00",
   "metadata": {
    "tags": []
   },
   "outputs": [
    {
     "name": "stdout",
     "output_type": "stream",
     "text": [
      "CPU times: user 2.06 s, sys: 7.75 ms, total: 2.07 s\n",
      "Wall time: 2.15 s\n"
     ]
    }
   ],
   "source": [
    "%%time\n",
    "dflist = []\n",
    "for i in range(100):\n",
    "    fn = fns21[i]\n",
    "    trknum = int( str(fn).split('_')[2] )\n",
    "    ds = kml2ds(fn)\n",
    "    df = ds2df(ds,trknum)\n",
    "    dflist.append(df)\n",
    "df_all = pd.concat(dflist)"
   ]
  },
  {
   "cell_type": "code",
   "execution_count": 16,
   "id": "3c39b0b5-7ffe-4077-948a-b63718fda145",
   "metadata": {
    "tags": []
   },
   "outputs": [
    {
     "data": {
      "text/html": [
       "<div>\n",
       "<style scoped>\n",
       "    .dataframe tbody tr th:only-of-type {\n",
       "        vertical-align: middle;\n",
       "    }\n",
       "\n",
       "    .dataframe tbody tr th {\n",
       "        vertical-align: top;\n",
       "    }\n",
       "\n",
       "    .dataframe thead th {\n",
       "        text-align: right;\n",
       "    }\n",
       "</style>\n",
       "<table border=\"1\" class=\"dataframe\">\n",
       "  <thead>\n",
       "    <tr style=\"text-align: right;\">\n",
       "      <th></th>\n",
       "      <th>lat</th>\n",
       "      <th>lon</th>\n",
       "      <th>RGTID</th>\n",
       "    </tr>\n",
       "  </thead>\n",
       "  <tbody>\n",
       "    <tr>\n",
       "      <th>2023-09-19 02:03:28</th>\n",
       "      <td>0.027959</td>\n",
       "      <td>-0.131847</td>\n",
       "      <td>1</td>\n",
       "    </tr>\n",
       "    <tr>\n",
       "      <th>2023-09-19 02:03:29</th>\n",
       "      <td>0.091968</td>\n",
       "      <td>-0.138250</td>\n",
       "      <td>1</td>\n",
       "    </tr>\n",
       "    <tr>\n",
       "      <th>2023-09-19 02:03:30</th>\n",
       "      <td>0.155977</td>\n",
       "      <td>-0.144652</td>\n",
       "      <td>1</td>\n",
       "    </tr>\n",
       "    <tr>\n",
       "      <th>2023-09-19 02:03:31</th>\n",
       "      <td>0.219986</td>\n",
       "      <td>-0.151055</td>\n",
       "      <td>1</td>\n",
       "    </tr>\n",
       "    <tr>\n",
       "      <th>2023-09-19 02:03:32</th>\n",
       "      <td>0.283995</td>\n",
       "      <td>-0.157457</td>\n",
       "      <td>1</td>\n",
       "    </tr>\n",
       "    <tr>\n",
       "      <th>...</th>\n",
       "      <td>...</td>\n",
       "      <td>...</td>\n",
       "      <td>...</td>\n",
       "    </tr>\n",
       "    <tr>\n",
       "      <th>2023-09-25 15:12:20</th>\n",
       "      <td>-0.362420</td>\n",
       "      <td>157.975620</td>\n",
       "      <td>100</td>\n",
       "    </tr>\n",
       "    <tr>\n",
       "      <th>2023-09-25 15:12:21</th>\n",
       "      <td>-0.298411</td>\n",
       "      <td>157.969218</td>\n",
       "      <td>100</td>\n",
       "    </tr>\n",
       "    <tr>\n",
       "      <th>2023-09-25 15:12:22</th>\n",
       "      <td>-0.234402</td>\n",
       "      <td>157.962816</td>\n",
       "      <td>100</td>\n",
       "    </tr>\n",
       "    <tr>\n",
       "      <th>2023-09-25 15:12:23</th>\n",
       "      <td>-0.170394</td>\n",
       "      <td>157.956413</td>\n",
       "      <td>100</td>\n",
       "    </tr>\n",
       "    <tr>\n",
       "      <th>2023-09-25 15:12:24</th>\n",
       "      <td>-0.106384</td>\n",
       "      <td>157.950011</td>\n",
       "      <td>100</td>\n",
       "    </tr>\n",
       "  </tbody>\n",
       "</table>\n",
       "<p>565638 rows × 3 columns</p>\n",
       "</div>"
      ],
      "text/plain": [
       "                          lat         lon  RGTID\n",
       "2023-09-19 02:03:28  0.027959   -0.131847      1\n",
       "2023-09-19 02:03:29  0.091968   -0.138250      1\n",
       "2023-09-19 02:03:30  0.155977   -0.144652      1\n",
       "2023-09-19 02:03:31  0.219986   -0.151055      1\n",
       "2023-09-19 02:03:32  0.283995   -0.157457      1\n",
       "...                       ...         ...    ...\n",
       "2023-09-25 15:12:20 -0.362420  157.975620    100\n",
       "2023-09-25 15:12:21 -0.298411  157.969218    100\n",
       "2023-09-25 15:12:22 -0.234402  157.962816    100\n",
       "2023-09-25 15:12:23 -0.170394  157.956413    100\n",
       "2023-09-25 15:12:24 -0.106384  157.950011    100\n",
       "\n",
       "[565638 rows x 3 columns]"
      ]
     },
     "execution_count": 16,
     "metadata": {},
     "output_type": "execute_result"
    }
   ],
   "source": [
    "df_all"
   ]
  },
  {
   "cell_type": "code",
   "execution_count": 9,
   "id": "95fa38f2-c271-4ee5-8e2e-67f74f1bf22e",
   "metadata": {
    "tags": []
   },
   "outputs": [],
   "source": [
    "df_all.to_parquet('./combined_kml.gzip',compression='gzip')"
   ]
  },
  {
   "cell_type": "code",
   "execution_count": null,
   "id": "644d5232-44b2-4c6e-b9f2-9204d2b74624",
   "metadata": {},
   "outputs": [],
   "source": []
  }
 ],
 "metadata": {
  "kernelspec": {
   "display_name": "Python 3 (ipykernel)",
   "language": "python",
   "name": "python3"
  },
  "language_info": {
   "codemirror_mode": {
    "name": "ipython",
    "version": 3
   },
   "file_extension": ".py",
   "mimetype": "text/x-python",
   "name": "python",
   "nbconvert_exporter": "python",
   "pygments_lexer": "ipython3",
   "version": "3.10.12"
  }
 },
 "nbformat": 4,
 "nbformat_minor": 5
}
