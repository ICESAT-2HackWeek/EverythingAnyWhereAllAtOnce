{
 "cells": [
  {
   "cell_type": "markdown",
   "id": "0a3be3fb-aaeb-401d-8633-1ed04d70ad54",
   "metadata": {
    "user_expressions": []
   },
   "source": [
    "# Beam Pairing Notebook"
   ]
  },
  {
   "cell_type": "code",
   "execution_count": 14,
   "id": "56ab36bf-6742-4a15-851d-a34775c35724",
   "metadata": {
    "tags": []
   },
   "outputs": [],
   "source": [
    "import h5py\n",
    "import simplekml\n",
    "import pandas\n",
    "import geopandas as gpd\n",
    "import matplotlib.pyplot as plt\n",
    "from osgeo import ogr\n",
    "import fiona\n",
    "\n",
    "# Packages for kml2df (temporary addition for testing)\n",
    "import os\n",
    "import numpy as np\n",
    "import pandas as pd\n",
    "import re\n",
    "import datetime"
   ]
  },
  {
   "cell_type": "code",
   "execution_count": 15,
   "id": "effb8b4c-de69-4936-9623-e4f0734f2858",
   "metadata": {
    "tags": []
   },
   "outputs": [],
   "source": [
    "def kml2df(kml_filename):\n",
    "\n",
    "    with open(kml_filename, 'r') as file:\n",
    "        kml_string = file.read()\n",
    "    kml_string_line = kml_string[kml_string.find('LineString_kml'):kml_string.find('</LineString>')]\n",
    "    kml_coords_str = '[[' + kml_string_line[kml_string_line.find('<coordinates>')+len('<coordinates>'):kml_string_line.find('</coordinates>')-1] + ']]'\n",
    "    kml_coords_str = kml_coords_str.replace(' ', '],[')\n",
    "    kml_coords_array = np.array(eval(kml_coords_str))\n",
    "\n",
    "    starts = [m.start() for m in re.finditer('<Point id=', kml_string)]\n",
    "    ends = [m.start()+100 for m in re.finditer('</Point>', kml_string)]\n",
    "    stringlist = [kml_string[s:e] for s,e in list(zip(starts, ends))]\n",
    "    lats, lons, dts_utc, dts_local, dtstmp_utc, dtstmp_local, str_utc, str_local = [], [], [], [], [], [], [], []\n",
    "    for substr in stringlist:\n",
    "        coordstr = substr[substr.find('<coordinates>')+len('<coordinates>'):substr.find('</coordinates>')]\n",
    "        coordstr = '['+coordstr[:coordstr.rfind(',')-1]+']'\n",
    "        coords = eval(coordstr)\n",
    "        lat = coords[1]\n",
    "        lon = coords[0]\n",
    "        descr = substr[substr.find('<name>')+len('<name>'):substr.find('</name>')]\n",
    "        descr = substr[substr.find('<name>')+len('<name>'):substr.find('</name>')]\n",
    "        dt_str = descr[descr.find('DOY-'):]\n",
    "        dt_str = dt_str[dt_str.find(' ')+1:]\n",
    "        dt_str\n",
    "        descr = substr[substr.find('<name>')+len('<name>'):substr.find('</name>')]\n",
    "        dt_str = descr[descr.find('DOY-'):]\n",
    "        dt_str = dt_str[dt_str.find(' ')+1:]\n",
    "        day = int(dt_str[:dt_str.find('-')])\n",
    "        month_abbr = dt_str[dt_str.find('-')+1:dt_str.rfind('-')]\n",
    "        year = int(dt_str[dt_str.rfind('-')+1:dt_str.find(' ')])\n",
    "        hrs = int(dt_str[dt_str.find(' ')+1:dt_str.find(':')])\n",
    "        mins = int(dt_str[dt_str.find(':')+1:dt_str.rfind(':')])\n",
    "        secs = int(dt_str[dt_str.rfind(':')+1:])\n",
    "        datetime_str = '%4i-%3s-%02iT%02i:%02i:%02iZ' % (year, month_abbr, day, hrs, mins, secs)\n",
    "        dt = datetime.datetime.strptime(datetime_str,'%Y-%b-%dT%H:%M:%SZ')\n",
    "        timestamp_utc = datetime.datetime.timestamp(dt)\n",
    "        lats.append(lat)\n",
    "        lons.append(lon)\n",
    "        dtstmp_utc.append(timestamp_utc)\n",
    "    df = pd.DataFrame({'lat':lats, 'lon':lons, 'dtstmp_UTC': dtstmp_utc})\n",
    "    return df"
   ]
  },
  {
   "cell_type": "code",
   "execution_count": 16,
   "id": "aad19818-2746-4317-83af-9d6059ca25c7",
   "metadata": {
    "tags": []
   },
   "outputs": [
    {
     "name": "stdout",
     "output_type": "stream",
     "text": [
      "cycle 21: 1387 KMLs\n"
     ]
    }
   ],
   "source": [
    "kml_dir = '/home/jovyan/shared-public/ICESat-2-Hackweek/KMLs'\n",
    "kml_filelist = [kml_dir+'/'+f for f in os.listdir(kml_dir) if os.path.isfile(os.path.join(kml_dir, f))]\n",
    "cycle = 21\n",
    "cycle_search = '_cycle%i_' % cycle\n",
    "cycle_filelist = [f for f in kml_filelist if ((cycle_search in f) & (f[len(kml_dir)+1] != '.'))]\n",
    "nfiles = len(cycle_filelist)\n",
    "print('cycle %2i: %4i KMLs' % (cycle, nfiles))"
   ]
  },
  {
   "cell_type": "code",
   "execution_count": 17,
   "id": "add5e03c-4bbd-4503-98a4-22dea701ec78",
   "metadata": {
    "tags": []
   },
   "outputs": [
    {
     "name": "stdout",
     "output_type": "stream",
     "text": [
      "0:02:08.498876\n"
     ]
    }
   ],
   "source": [
    "df_list = []\n",
    "startTime = datetime.datetime.now()\n",
    "for i,fn in enumerate(cycle_filelist):\n",
    "    df_list.append(kml2df(fn))\n",
    "    print('%4i / %4i' % (i, nfiles), end='\\r')\n",
    "df_all = pd.concat(df_list)\n",
    "print(datetime.datetime.now() - startTime)"
   ]
  },
  {
   "cell_type": "code",
   "execution_count": 18,
   "id": "f4df831b-04b8-4fbe-8ee4-466c440f0742",
   "metadata": {
    "tags": []
   },
   "outputs": [
    {
     "data": {
      "text/html": [
       "<div>\n",
       "<style scoped>\n",
       "    .dataframe tbody tr th:only-of-type {\n",
       "        vertical-align: middle;\n",
       "    }\n",
       "\n",
       "    .dataframe tbody tr th {\n",
       "        vertical-align: top;\n",
       "    }\n",
       "\n",
       "    .dataframe thead th {\n",
       "        text-align: right;\n",
       "    }\n",
       "</style>\n",
       "<table border=\"1\" class=\"dataframe\">\n",
       "  <thead>\n",
       "    <tr style=\"text-align: right;\">\n",
       "      <th></th>\n",
       "      <th>lat</th>\n",
       "      <th>lon</th>\n",
       "      <th>dtstmp_UTC</th>\n",
       "      <th>time_str</th>\n",
       "    </tr>\n",
       "  </thead>\n",
       "  <tbody>\n",
       "    <tr>\n",
       "      <th>0</th>\n",
       "      <td>0.030358</td>\n",
       "      <td>57.487437</td>\n",
       "      <td>1.700939e+09</td>\n",
       "      <td>Sat 2023-Nov-25 18:59:01</td>\n",
       "    </tr>\n",
       "    <tr>\n",
       "      <th>1</th>\n",
       "      <td>3.871154</td>\n",
       "      <td>57.103318</td>\n",
       "      <td>1.700939e+09</td>\n",
       "      <td>Sat 2023-Nov-25 19:00:01</td>\n",
       "    </tr>\n",
       "    <tr>\n",
       "      <th>2</th>\n",
       "      <td>7.712184</td>\n",
       "      <td>56.717966</td>\n",
       "      <td>1.700939e+09</td>\n",
       "      <td>Sat 2023-Nov-25 19:01:01</td>\n",
       "    </tr>\n",
       "    <tr>\n",
       "      <th>3</th>\n",
       "      <td>11.552985</td>\n",
       "      <td>56.330143</td>\n",
       "      <td>1.700939e+09</td>\n",
       "      <td>Sat 2023-Nov-25 19:02:01</td>\n",
       "    </tr>\n",
       "    <tr>\n",
       "      <th>4</th>\n",
       "      <td>15.393106</td>\n",
       "      <td>55.938517</td>\n",
       "      <td>1.700939e+09</td>\n",
       "      <td>Sat 2023-Nov-25 19:03:01</td>\n",
       "    </tr>\n",
       "    <tr>\n",
       "      <th>...</th>\n",
       "      <td>...</td>\n",
       "      <td>...</td>\n",
       "      <td>...</td>\n",
       "      <td>...</td>\n",
       "    </tr>\n",
       "    <tr>\n",
       "      <th>90</th>\n",
       "      <td>-16.409800</td>\n",
       "      <td>-101.771708</td>\n",
       "      <td>1.696407e+09</td>\n",
       "      <td>Wed 2023-Oct-04 08:08:41</td>\n",
       "    </tr>\n",
       "    <tr>\n",
       "      <th>91</th>\n",
       "      <td>-12.575306</td>\n",
       "      <td>-102.164307</td>\n",
       "      <td>1.696407e+09</td>\n",
       "      <td>Wed 2023-Oct-04 08:09:41</td>\n",
       "    </tr>\n",
       "    <tr>\n",
       "      <th>92</th>\n",
       "      <td>-8.738630</td>\n",
       "      <td>-102.552793</td>\n",
       "      <td>1.696407e+09</td>\n",
       "      <td>Wed 2023-Oct-04 08:10:41</td>\n",
       "    </tr>\n",
       "    <tr>\n",
       "      <th>93</th>\n",
       "      <td>-4.900199</td>\n",
       "      <td>-102.938524</td>\n",
       "      <td>1.696407e+09</td>\n",
       "      <td>Wed 2023-Oct-04 08:11:41</td>\n",
       "    </tr>\n",
       "    <tr>\n",
       "      <th>94</th>\n",
       "      <td>-1.060458</td>\n",
       "      <td>-103.322751</td>\n",
       "      <td>1.696407e+09</td>\n",
       "      <td>Wed 2023-Oct-04 08:12:41</td>\n",
       "    </tr>\n",
       "  </tbody>\n",
       "</table>\n",
       "<p>131765 rows × 4 columns</p>\n",
       "</div>"
      ],
      "text/plain": [
       "          lat         lon    dtstmp_UTC                  time_str\n",
       "0    0.030358   57.487437  1.700939e+09  Sat 2023-Nov-25 18:59:01\n",
       "1    3.871154   57.103318  1.700939e+09  Sat 2023-Nov-25 19:00:01\n",
       "2    7.712184   56.717966  1.700939e+09  Sat 2023-Nov-25 19:01:01\n",
       "3   11.552985   56.330143  1.700939e+09  Sat 2023-Nov-25 19:02:01\n",
       "4   15.393106   55.938517  1.700939e+09  Sat 2023-Nov-25 19:03:01\n",
       "..        ...         ...           ...                       ...\n",
       "90 -16.409800 -101.771708  1.696407e+09  Wed 2023-Oct-04 08:08:41\n",
       "91 -12.575306 -102.164307  1.696407e+09  Wed 2023-Oct-04 08:09:41\n",
       "92  -8.738630 -102.552793  1.696407e+09  Wed 2023-Oct-04 08:10:41\n",
       "93  -4.900199 -102.938524  1.696407e+09  Wed 2023-Oct-04 08:11:41\n",
       "94  -1.060458 -103.322751  1.696407e+09  Wed 2023-Oct-04 08:12:41\n",
       "\n",
       "[131765 rows x 4 columns]"
      ]
     },
     "execution_count": 18,
     "metadata": {},
     "output_type": "execute_result"
    }
   ],
   "source": [
    "df_all['time_str'] = [datetime.datetime.strftime(datetime.datetime.fromtimestamp(t), '%a %Y-%b-%d %H:%M:%S') for t in df_all.dtstmp_UTC]\n",
    "df_all"
   ]
  },
  {
   "cell_type": "code",
   "execution_count": 21,
   "id": "8d8b2933-6489-4d51-9308-9ce4518737fc",
   "metadata": {
    "tags": []
   },
   "outputs": [],
   "source": [
    "def make_new_rgts(kml_gpd):\n",
    "    # Estimate location of left and right beams,\n",
    "    # assuming a beam pair spacing of 3.3 km\n",
    "    dellon = 3300./(np.cos(np.radians(kml_gpd['lat']))*111000)\n",
    "    lon_right = kml_gpd['lon'] + dellon\n",
    "    lon_left = kml_gpd['lon'] - dellon\n",
    "    \n",
    "    # Add left and right beams into GeoDataFrame\n",
    "    right_gpd = pd.DataFrame(data={'lat': kml_gpd['lat'],\n",
    "                                   'lon': lon_right})\n",
    "    left_gpd = pd.DataFrame(data={'lat': kml_gpd['lat'],\n",
    "                                  'lon': lon_left})\n",
    "    \n",
    "    return right_gpd, left_gpd"
   ]
  },
  {
   "cell_type": "code",
   "execution_count": 22,
   "id": "11939138-d46e-4aa2-8041-8e20224562fa",
   "metadata": {
    "tags": []
   },
   "outputs": [],
   "source": [
    "right, left = make_new_rgts(df_all)"
   ]
  },
  {
   "cell_type": "code",
   "execution_count": 24,
   "id": "5c999a52-62c9-4327-a2f7-5b1dd30e6734",
   "metadata": {
    "tags": []
   },
   "outputs": [
    {
     "data": {
      "text/html": [
       "<div>\n",
       "<style scoped>\n",
       "    .dataframe tbody tr th:only-of-type {\n",
       "        vertical-align: middle;\n",
       "    }\n",
       "\n",
       "    .dataframe tbody tr th {\n",
       "        vertical-align: top;\n",
       "    }\n",
       "\n",
       "    .dataframe thead th {\n",
       "        text-align: right;\n",
       "    }\n",
       "</style>\n",
       "<table border=\"1\" class=\"dataframe\">\n",
       "  <thead>\n",
       "    <tr style=\"text-align: right;\">\n",
       "      <th></th>\n",
       "      <th>lat</th>\n",
       "      <th>lon</th>\n",
       "    </tr>\n",
       "  </thead>\n",
       "  <tbody>\n",
       "    <tr>\n",
       "      <th>0</th>\n",
       "      <td>0.030358</td>\n",
       "      <td>57.457707</td>\n",
       "    </tr>\n",
       "    <tr>\n",
       "      <th>1</th>\n",
       "      <td>3.871154</td>\n",
       "      <td>57.073520</td>\n",
       "    </tr>\n",
       "    <tr>\n",
       "      <th>2</th>\n",
       "      <td>7.712184</td>\n",
       "      <td>56.687965</td>\n",
       "    </tr>\n",
       "    <tr>\n",
       "      <th>3</th>\n",
       "      <td>11.552985</td>\n",
       "      <td>56.299799</td>\n",
       "    </tr>\n",
       "    <tr>\n",
       "      <th>4</th>\n",
       "      <td>15.393106</td>\n",
       "      <td>55.907681</td>\n",
       "    </tr>\n",
       "    <tr>\n",
       "      <th>...</th>\n",
       "      <td>...</td>\n",
       "      <td>...</td>\n",
       "    </tr>\n",
       "    <tr>\n",
       "      <th>90</th>\n",
       "      <td>-16.409800</td>\n",
       "      <td>-101.802700</td>\n",
       "    </tr>\n",
       "    <tr>\n",
       "      <th>91</th>\n",
       "      <td>-12.575306</td>\n",
       "      <td>-102.194767</td>\n",
       "    </tr>\n",
       "    <tr>\n",
       "      <th>92</th>\n",
       "      <td>-8.738630</td>\n",
       "      <td>-102.582872</td>\n",
       "    </tr>\n",
       "    <tr>\n",
       "      <th>93</th>\n",
       "      <td>-4.900199</td>\n",
       "      <td>-102.968362</td>\n",
       "    </tr>\n",
       "    <tr>\n",
       "      <th>94</th>\n",
       "      <td>-1.060458</td>\n",
       "      <td>-103.352485</td>\n",
       "    </tr>\n",
       "  </tbody>\n",
       "</table>\n",
       "<p>131765 rows × 2 columns</p>\n",
       "</div>"
      ],
      "text/plain": [
       "          lat         lon\n",
       "0    0.030358   57.457707\n",
       "1    3.871154   57.073520\n",
       "2    7.712184   56.687965\n",
       "3   11.552985   56.299799\n",
       "4   15.393106   55.907681\n",
       "..        ...         ...\n",
       "90 -16.409800 -101.802700\n",
       "91 -12.575306 -102.194767\n",
       "92  -8.738630 -102.582872\n",
       "93  -4.900199 -102.968362\n",
       "94  -1.060458 -103.352485\n",
       "\n",
       "[131765 rows x 2 columns]"
      ]
     },
     "execution_count": 24,
     "metadata": {},
     "output_type": "execute_result"
    }
   ],
   "source": [
    "left"
   ]
  },
  {
   "cell_type": "code",
   "execution_count": null,
   "id": "643b3bbe-e066-41f4-aac5-925b3bb97047",
   "metadata": {},
   "outputs": [],
   "source": []
  }
 ],
 "metadata": {
  "kernelspec": {
   "display_name": "Python 3 (ipykernel)",
   "language": "python",
   "name": "python3"
  },
  "language_info": {
   "codemirror_mode": {
    "name": "ipython",
    "version": 3
   },
   "file_extension": ".py",
   "mimetype": "text/x-python",
   "name": "python",
   "nbconvert_exporter": "python",
   "pygments_lexer": "ipython3",
   "version": "3.10.12"
  }
 },
 "nbformat": 4,
 "nbformat_minor": 5
}
