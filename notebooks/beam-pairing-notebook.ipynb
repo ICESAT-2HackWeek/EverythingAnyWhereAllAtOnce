{
 "cells": [
  {
   "cell_type": "markdown",
   "id": "0a3be3fb-aaeb-401d-8633-1ed04d70ad54",
   "metadata": {
    "user_expressions": []
   },
   "source": [
    "# Beam Pairing Notebook"
   ]
  },
  {
   "cell_type": "code",
   "execution_count": null,
   "id": "56ab36bf-6742-4a15-851d-a34775c35724",
   "metadata": {},
   "outputs": [],
   "source": []
  }
 ],
 "metadata": {
  "kernelspec": {
   "display_name": "Python 3 (ipykernel)",
   "language": "python",
   "name": "python3"
  },
  "language_info": {
   "codemirror_mode": {
    "name": "ipython",
    "version": 3
   },
   "file_extension": ".py",
   "mimetype": "text/x-python",
   "name": "python",
   "nbconvert_exporter": "python",
   "pygments_lexer": "ipython3",
   "version": "3.10.12"
  }
 },
 "nbformat": 4,
 "nbformat_minor": 5
}
