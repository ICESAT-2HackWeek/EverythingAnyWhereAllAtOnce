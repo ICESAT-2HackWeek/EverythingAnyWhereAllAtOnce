{
 "cells": [
  {
   "cell_type": "markdown",
   "id": "0a3be3fb-aaeb-401d-8633-1ed04d70ad54",
   "metadata": {
    "user_expressions": []
   },
   "source": [
    "# Beam Pairing Notebook"
   ]
  },
  {
   "cell_type": "code",
   "execution_count": null,
   "id": "56ab36bf-6742-4a15-851d-a34775c35724",
   "metadata": {
    "tags": []
   },
   "outputs": [],
   "source": [
    "import h5py\n",
    "import simplekml\n",
    "import pandas as pd\n",
    "import geopandas as gpd\n",
    "import matplotlib.pyplot as plt\n",
    "from osgeo import ogr\n",
    "import fiona\n",
    "\n",
    "# Packages for kml2df (temporary addition for testing)\n",
    "import os\n",
    "import numpy as np\n",
    "import pandas as pd\n",
    "import re\n",
    "import datetime"
   ]
  },
  {
   "cell_type": "code",
   "execution_count": null,
   "id": "3cfa56eb-6c57-4849-8166-654b371d79cc",
   "metadata": {
    "tags": []
   },
   "outputs": [],
   "source": [
    "# Read collection of RGT tracks\n",
    "rgt_paths = '/home/jovyan/shared-public/ICESat-2-Hackweek/ground_tracks/cycle21_1hz_points.csv'\n",
    "rgt_tracks = pd.read_csv(rgt_paths)\n",
    "rgt_tracks"
   ]
  },
  {
   "cell_type": "code",
   "execution_count": null,
   "id": "84c2a1f7-bd8f-4b47-96f0-9bfb2046a56e",
   "metadata": {
    "tags": []
   },
   "outputs": [],
   "source": [
    "# Approximate location of left and right beams\n",
    "rgt_tracks['right_lon'] = rgt_tracks['lon'] + 3300./(np.cos(np.radians(rgt_tracks['lat']))*111000)\n",
    "rgt_tracks['left_lon'] = rgt_tracks['lon'] - 3300./(np.cos(np.radians(rgt_tracks['lat']))*111000)\n",
    "rgt_tracks.head()"
   ]
  },
  {
   "cell_type": "code",
   "execution_count": null,
   "id": "603ac81b-0b41-4b11-b651-137033b107f3",
   "metadata": {
    "tags": []
   },
   "outputs": [],
   "source": [
    "# Generate Point geometries for each of the beam pairs\n",
    "from shapely import Point, MultiPoint\n",
    "rgt_tracks['geom1'] = [Point(x, y) for x, y in zip(rgt_tracks.lon, rgt_tracks.lat)]\n",
    "rgt_tracks['geom2'] = [Point(x, y) for x, y in zip(rgt_tracks.right_lon, rgt_tracks.lat)]\n",
    "rgt_tracks['geom3'] = [Point(x, y) for x, y in zip(rgt_tracks.left_lon, rgt_tracks.lat)]\n",
    "rgt_tracks.head()"
   ]
  },
  {
   "cell_type": "code",
   "execution_count": null,
   "id": "905a4aa9-352a-4bba-83f0-5a1b12861ea9",
   "metadata": {
    "tags": []
   },
   "outputs": [],
   "source": [
    "# Look at only a single RGT\n",
    "single_rgt_track = rgt_tracks[(rgt_tracks['rgt']==1356) | (rgt_tracks['rgt']==472) | (rgt_tracks['rgt']==1097)]\n",
    "single_rgt_track.head()"
   ]
  },
  {
   "cell_type": "code",
   "execution_count": null,
   "id": "def9a96b-17e4-4be3-9086-9abfae1e4da3",
   "metadata": {
    "tags": []
   },
   "outputs": [],
   "source": [
    "len(single_rgt_track)"
   ]
  },
  {
   "cell_type": "code",
   "execution_count": null,
   "id": "067c4ead-7451-480a-83e8-c375f8e4fada",
   "metadata": {
    "tags": []
   },
   "outputs": [],
   "source": [
    "# Combine Point geometries into Multipoint object\n",
    "single_rgt_track['multi'] = [MultiPoint([x, y, z]) for x, y, z in zip(single_rgt_track.geom1, \n",
    "                                                                 single_rgt_track.geom2,\n",
    "                                                                 single_rgt_track.geom3)]\n",
    "single_rgt_track.head()"
   ]
  },
  {
   "cell_type": "code",
   "execution_count": null,
   "id": "3e0f15b0-dbcc-43ea-922b-39280777a78e",
   "metadata": {
    "tags": []
   },
   "outputs": [],
   "source": [
    "len(single_track_gdf)"
   ]
  },
  {
   "cell_type": "code",
   "execution_count": null,
   "id": "693a9bab-b0e8-4a3c-a96a-4e7f855f72bd",
   "metadata": {
    "tags": []
   },
   "outputs": [],
   "source": [
    "# Set the MultiPoint geometry, and remove redundant columns\n",
    "single_track_gdf = single_rgt_track.set_geometry('multi')\n",
    "single_track_gdf = single_track_gdf.drop(['geometry','geom1','geom2', 'geom3'], axis=1)"
   ]
  },
  {
   "cell_type": "code",
   "execution_count": null,
   "id": "ffd7d78e-3193-4447-9b8f-85eddc4f6144",
   "metadata": {
    "tags": []
   },
   "outputs": [],
   "source": [
    "# Save geodataframe to a geoJSON\n",
    "single_track_gdf.to_file('rgt472_rgt1097_rgt1356_allbeams.geojson', driver='GeoJSON')"
   ]
  },
  {
   "cell_type": "code",
   "execution_count": null,
   "id": "4fe27cef-0c83-487f-b5e1-f15cdef93a11",
   "metadata": {
    "tags": []
   },
   "outputs": [],
   "source": [
    "# Read the geoJSON back in\n",
    "data = gpd.read_file('rgt472_rgt1097_rgt1356_allbeams.geojson')"
   ]
  },
  {
   "cell_type": "code",
   "execution_count": null,
   "id": "bc4b93cf-c2b6-4af7-9d91-6a3acbdcb32e",
   "metadata": {
    "tags": []
   },
   "outputs": [],
   "source": [
    "# View CRS of track information\n",
    "data.crs"
   ]
  },
  {
   "cell_type": "code",
   "execution_count": null,
   "id": "83271e85-becb-4d79-b2c7-f017f95569f8",
   "metadata": {
    "tags": []
   },
   "outputs": [],
   "source": [
    "# View ICESat-2 tracks over ESRI map\n",
    "data.explore(tiles='Esri.WorldImagery')"
   ]
  },
  {
   "cell_type": "code",
   "execution_count": null,
   "id": "e1dcd29a-cbc6-4074-9f88-1cac09dbbdf5",
   "metadata": {
    "tags": []
   },
   "outputs": [],
   "source": [
    "data.geometry"
   ]
  },
  {
   "cell_type": "code",
   "execution_count": null,
   "id": "ca73d585-bb82-49e6-b353-873d35d3c050",
   "metadata": {},
   "outputs": [],
   "source": [
    "test_data = pd.read_csv('/home/jovyan/icesat2-snowex/atl03_snowdepth_rgt1097_acp_202234.csv', header=0)\n",
    "test_data.head()"
   ]
  },
  {
   "cell_type": "code",
   "execution_count": null,
   "id": "a7f5727b-cda2-4b3b-879d-370311732d50",
   "metadata": {
    "tags": []
   },
   "outputs": [],
   "source": [
    "test_data_gpd = gpd.GeoDataFrame(test_data, geometry=gpd.points_from_xy(test_data.lon, test_data.lat),\n",
    "                                 crs='EPSG:4326')"
   ]
  },
  {
   "cell_type": "code",
   "execution_count": null,
   "id": "851d3e42-6000-43d4-8ccb-4f7c4acd73fb",
   "metadata": {
    "tags": []
   },
   "outputs": [],
   "source": [
    "%matplotlib widget\n",
    "f, ax = plt.subplots()\n",
    "data.plot(ax=ax)\n",
    "test_data_gpd.plot(ax=ax)"
   ]
  },
  {
   "cell_type": "code",
   "execution_count": null,
   "id": "77bc108b-adf8-4fc1-bdb1-c2155a24f1b7",
   "metadata": {
    "tags": []
   },
   "outputs": [],
   "source": [
    "search_results_file = 'search_circle_ll_results.geojson'\n",
    "search_result_gpd = gpd.read_file(search_results_file)\n",
    "search_result_gpd.head()"
   ]
  },
  {
   "cell_type": "code",
   "execution_count": null,
   "id": "3c178789-8a96-46fe-89ed-32da0051ca7b",
   "metadata": {
    "tags": []
   },
   "outputs": [],
   "source": [
    "search_result_tracks = search_result_gpd[search_result_gpd['rgt']!='none']"
   ]
  },
  {
   "cell_type": "code",
   "execution_count": null,
   "id": "ba28aeab-37fc-4a45-b638-3bb20b30bc8b",
   "metadata": {
    "tags": []
   },
   "outputs": [],
   "source": [
    "search_result_tracks['coords'] = search_result_tracks.geometry.apply(lambda geom: list(geom.coords))"
   ]
  },
  {
   "cell_type": "code",
   "execution_count": null,
   "id": "7ed26d27-51d3-40b7-850f-adbf43187098",
   "metadata": {
    "tags": []
   },
   "outputs": [],
   "source": [
    "search_result_tracks['points'] = search_result_tracks.apply(lambda x: [y for y in x['geometry'].coords], axis=1)"
   ]
  },
  {
   "cell_type": "code",
   "execution_count": null,
   "id": "db0ae51e-0563-4726-9387-ce522644c43b",
   "metadata": {
    "tags": []
   },
   "outputs": [],
   "source": [
    "search_result_points = search_result_tracks[search_result_tracks.geometry.geom_type=='Point']"
   ]
  },
  {
   "cell_type": "code",
   "execution_count": null,
   "id": "863e52ac-59cb-4a91-9c45-8ae1eb9503ba",
   "metadata": {
    "tags": []
   },
   "outputs": [],
   "source": [
    "search_result_points['lon'] = search_result_points.geometry.apply(lambda p: p.x)\n",
    "search_result_points['lat'] = search_result_points.geometry.apply(lambda p: p.y)"
   ]
  },
  {
   "cell_type": "code",
   "execution_count": null,
   "id": "4afac61b-8403-40f0-8e1d-014075ed3c81",
   "metadata": {
    "tags": []
   },
   "outputs": [],
   "source": [
    "search_result_points['right_lon'] = search_result_points['lon'] + 3300./(np.cos(np.radians(search_result_points['lat']))*111000)\n",
    "search_result_points['left_lon'] = search_result_points['lon'] - 3300./(np.cos(np.radians(search_result_points['lat']))*111000)\n",
    "search_result_points.head()"
   ]
  },
  {
   "cell_type": "code",
   "execution_count": null,
   "id": "b3a005f5-a2aa-4888-bac0-a46848693e45",
   "metadata": {
    "tags": []
   },
   "outputs": [],
   "source": [
    "search_result_points['geom1'] = [Point(x, y) for x, y in zip(search_result_points.lon, search_result_points.lat)]\n",
    "search_result_points['geom2'] = [Point(x, y) for x, y in zip(search_result_points.right_lon, search_result_points.lat)]\n",
    "search_result_points['geom3'] = [Point(x, y) for x, y in zip(search_result_points.left_lon, search_result_points.lat)]\n",
    "search_result_points.head()"
   ]
  },
  {
   "cell_type": "code",
   "execution_count": null,
   "id": "bdffb1a7-6994-4bc3-b4e8-d9b416357ea4",
   "metadata": {
    "tags": []
   },
   "outputs": [],
   "source": [
    "search_result_points['multi'] = [MultiPoint([x, y, z]) for x, y, z in zip(search_result_points.geom1, \n",
    "                                                                 search_result_points.geom2,\n",
    "                                                                 search_result_points.geom3)]\n",
    "search_result_points.head()"
   ]
  },
  {
   "cell_type": "code",
   "execution_count": null,
   "id": "323c9031-1b5f-4e01-a056-df4588f04130",
   "metadata": {
    "tags": []
   },
   "outputs": [],
   "source": [
    "search_result_gdf = search_result_points.set_geometry('multi')\n",
    "search_result_gdf = search_result_gdf.drop(['geometry','geom1','geom2', 'geom3', 'coords'], axis=1)"
   ]
  },
  {
   "cell_type": "code",
   "execution_count": null,
   "id": "2e9cc5ba-8af5-4108-a8ff-25eaae456725",
   "metadata": {
    "tags": []
   },
   "outputs": [],
   "source": [
    "search_result_gdf = search_result_gdf.drop(['points'], axis=1)"
   ]
  },
  {
   "cell_type": "code",
   "execution_count": null,
   "id": "49cfaab1-2922-4560-bf0b-6704c77ca321",
   "metadata": {
    "tags": []
   },
   "outputs": [],
   "source": [
    "# Save geodataframe to a geoJSON\n",
    "search_result_gdf.to_file('search_result_allbeams.geojson', driver='GeoJSON')"
   ]
  },
  {
   "cell_type": "code",
   "execution_count": null,
   "id": "18fa799d-ed0b-4c6c-80b2-756b3a7fe90e",
   "metadata": {
    "tags": []
   },
   "outputs": [],
   "source": [
    "# Read the geoJSON back in\n",
    "data = gpd.read_file('search_result_allbeams.geojson')"
   ]
  },
  {
   "cell_type": "code",
   "execution_count": null,
   "id": "5d97d901-7bf0-45af-8e6b-ff302c38df7a",
   "metadata": {
    "tags": []
   },
   "outputs": [],
   "source": [
    "# Check out the search results in a map (currently only shows points)\n",
    "data.explore()"
   ]
  },
  {
   "cell_type": "markdown",
   "id": "d73c556c-704b-4962-9850-fd2816f6fb21",
   "metadata": {
    "user_expressions": []
   },
   "source": [
    "Note that the above file reads the data in as Point geometries. I did not have enough time to convert them back to the LineString format.\n",
    "\n",
    "Since we want 3 beams preferably in the same Geometry object, a MultiLineString would be preferable."
   ]
  }
 ],
 "metadata": {
  "kernelspec": {
   "display_name": "Python 3 (ipykernel)",
   "language": "python",
   "name": "python3"
  },
  "language_info": {
   "codemirror_mode": {
    "name": "ipython",
    "version": 3
   },
   "file_extension": ".py",
   "mimetype": "text/x-python",
   "name": "python",
   "nbconvert_exporter": "python",
   "pygments_lexer": "ipython3",
   "version": "3.10.12"
  }
 },
 "nbformat": 4,
 "nbformat_minor": 5
}
