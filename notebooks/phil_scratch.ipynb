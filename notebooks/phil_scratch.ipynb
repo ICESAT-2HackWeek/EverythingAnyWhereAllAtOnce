{
 "cells": [
  {
   "cell_type": "code",
   "execution_count": 6,
   "id": "553ab3ca-e35a-4bdd-bde3-04a494513428",
   "metadata": {
    "tags": []
   },
   "outputs": [],
   "source": [
    "import geopandas as gpd\n",
    "import pandas as pd"
   ]
  },
  {
   "cell_type": "code",
   "execution_count": 7,
   "id": "188ef14f-2a40-4948-8bfb-35df4835baec",
   "metadata": {
    "tags": []
   },
   "outputs": [],
   "source": [
    "gdf = pd.read_pickle('/home/jovyan/shared-public/ICESat-2-Hackweek/ground_tracks/cycle15_1hz_points.pkl')"
   ]
  },
  {
   "cell_type": "code",
   "execution_count": 9,
   "id": "5efd254f-449a-4367-aafe-a5c5f9a59e7b",
   "metadata": {
    "tags": []
   },
   "outputs": [
    {
     "data": {
      "text/plain": [
       "lat                                            163.743637\n",
       "lon                                            -40.386032\n",
       "rgt                                                     1\n",
       "timestamp                                    1648010157.0\n",
       "time_str                         Wed 2022-Mar-23 04:35:57\n",
       "geometry     POINT (-40.38603151843365 163.7436368929886)\n",
       "Name: 3456, dtype: object"
      ]
     },
     "execution_count": 9,
     "metadata": {},
     "output_type": "execute_result"
    }
   ],
   "source": [
    "gdf.iloc[3456]"
   ]
  },
  {
   "cell_type": "code",
   "execution_count": null,
   "id": "3ec3e5dc-f754-4304-890b-0cb048d16292",
   "metadata": {},
   "outputs": [],
   "source": []
  }
 ],
 "metadata": {
  "kernelspec": {
   "display_name": "Python 3 (ipykernel)",
   "language": "python",
   "name": "python3"
  },
  "language_info": {
   "codemirror_mode": {
    "name": "ipython",
    "version": 3
   },
   "file_extension": ".py",
   "mimetype": "text/x-python",
   "name": "python",
   "nbconvert_exporter": "python",
   "pygments_lexer": "ipython3",
   "version": "3.10.12"
  }
 },
 "nbformat": 4,
 "nbformat_minor": 5
}
