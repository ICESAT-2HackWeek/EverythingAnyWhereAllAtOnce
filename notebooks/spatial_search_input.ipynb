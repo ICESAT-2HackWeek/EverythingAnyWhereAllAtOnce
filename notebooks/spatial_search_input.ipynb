{
 "cells": [
  {
   "cell_type": "markdown",
   "id": "9e21506d-87eb-49eb-a7f0-ae4eb1115681",
   "metadata": {
    "tags": [],
    "user_expressions": []
   },
   "source": [
    "# Goal: create a circular search polygon around a user defined geographic point coordinate with a given search radius in meters"
   ]
  },
  {
   "cell_type": "markdown",
   "id": "c9d023a8-5d6b-462e-be55-e1f42ecd1098",
   "metadata": {
    "user_expressions": []
   },
   "source": [
    "**Input:** longitude and latitude of search center in decimal degrees and search radius in meters\n",
    "* latitude  must be in decimal degrees and between ±90° latitude.\n",
    "* longitude must be in decimal degrees degrees east and can be between 0° and 360° or ±180°\n",
    "  Note: longitude will be wrapped to ±180°\n",
    "  \n",
    "**Output:** circular search polyon in GeoJSON format\n",
    "\n",
    "**Caveats:**\n",
    "* crossing the poles at ±90° has not been tested and may produce unexpected results.\n",
    "* crossing the prime meridian at ±180° has not been tested and may produce unexpected results."
   ]
  },
  {
   "cell_type": "code",
   "execution_count": 12,
   "id": "5f401fca-b7a5-4407-870f-c02e92d436ee",
   "metadata": {
    "tags": []
   },
   "outputs": [],
   "source": [
    "# load required modules and define some parameters\n",
    "import pyproj\n",
    "import shapely\n",
    "import numpy as np\n",
    "from functools import partial\n",
    "from shapely.geometry import Point\n",
    "from shapely.geometry import Polygon\n",
    "from shapely.ops import transform\n",
    "# import warning\n",
    "import geopandas as gpd\n",
    "\n",
    "earth_radius_sphere_m = 6371007 # Earth's radius of an authalic sphere in meters since I haven't figured out yet how to use the WGS84 ellipsoid in shapley \n",
    "\n",
    "#warnings.filterwarnings(\"ignore\")  # suppresses all warnings - here used to suppress ShapelyDeprecationWarning from panda module. not sure what to do about this."
   ]
  },
  {
   "cell_type": "code",
   "execution_count": 13,
   "id": "797b3244-f352-41eb-93be-46de34b6dc90",
   "metadata": {
    "tags": []
   },
   "outputs": [],
   "source": [
    "# get geographic point coordinates and search distance for spatial search\n",
    "\n",
    "lat_ctr =  69.0285674715518\n",
    "lon_ctr = -49.4797934493365\n",
    "search_radius_m = 5000.0\n",
    "\n",
    "# need to wrap longitudes to ±180° for exporting geographic coordinates.\n",
    "# 0 to 360 is not supported.\n",
    "if np.abs(lon_ctr) > 180:\n",
    "    lon_ctr = np.mod(lon_ctr - 180.0, 360.0) - 180.0"
   ]
  },
  {
   "cell_type": "code",
   "execution_count": 14,
   "id": "63fedb50-390e-4482-8776-791869593d7d",
   "metadata": {
    "tags": []
   },
   "outputs": [
    {
     "name": "stdout",
     "output_type": "stream",
     "text": [
      "+proj=stere +R=6371007 +units=m +lat_0=69.0285674715518 +lon_0=-49.4797934493365\n"
     ]
    }
   ],
   "source": [
    "# define local projection with search coordinates as center in proj4 syntax\n",
    "#local_map_proj = \"+proj=aeqd +R={} +units=m +lat_0={} +lon_0={}\".format(earth_radius_sphere_m, lat_ctr, lon_ctr)\n",
    "local_map_proj = \"+proj=stere +R={} +units=m +lat_0={} +lon_0={}\".format(earth_radius_sphere_m, lat_ctr, lon_ctr)\n",
    "\n",
    "print(local_map_proj)"
   ]
  },
  {
   "cell_type": "code",
   "execution_count": 15,
   "id": "f08d7acf-4c1f-49a6-94ff-63a8e1a3efd8",
   "metadata": {
    "tags": []
   },
   "outputs": [],
   "source": [
    "# define local forward and inverse map projections\n",
    "ll_to_xy = partial(\n",
    "    pyproj.transform,\n",
    "    pyproj.Proj(\"+proj=longlat +datum=WGS84 +no_defs\"),\n",
    "    pyproj.Proj(local_map_proj),\n",
    ")\n",
    "xy_to_ll = partial(\n",
    "    pyproj.transform,\n",
    "    pyproj.Proj(local_map_proj),\n",
    "    pyproj.Proj(\"+proj=longlat +datum=WGS84 +no_defs\"),\n",
    ")"
   ]
  },
  {
   "cell_type": "code",
   "execution_count": 16,
   "id": "ca8de8a6-6293-4c8d-bf6c-d8a32aec623c",
   "metadata": {
    "tags": []
   },
   "outputs": [
    {
     "name": "stderr",
     "output_type": "stream",
     "text": [
      "/srv/conda/envs/notebook/lib/python3.10/site-packages/shapely/ops.py:274: FutureWarning: This function is deprecated. See: https://pyproj4.github.io/pyproj/stable/gotchas.html#upgrading-to-pyproj-2-from-pyproj-1\n",
      "  return type(geom)(zip(*func(*zip(*geom.coords))))\n",
      "/srv/conda/envs/notebook/lib/python3.10/site-packages/shapely/ops.py:276: FutureWarning: This function is deprecated. See: https://pyproj4.github.io/pyproj/stable/gotchas.html#upgrading-to-pyproj-2-from-pyproj-1\n",
      "  shell = type(geom.exterior)(zip(*func(*zip(*geom.exterior.coords))))\n"
     ]
    }
   ],
   "source": [
    "# create circular polygon with desired search radius and transform back to geopgraphic coordinates\n",
    "search_center_ll = Point(float(lon_ctr), float(lat_ctr))\n",
    "search_center_xy = transform(ll_to_xy, search_center_ll)\n",
    "search_buffer_xy = search_center_xy.buffer(search_radius_m)\n",
    "\n",
    "# get the polygon with lat lon coordinates\n",
    "search_buffer_ll = transform(xy_to_ll, search_buffer_xy)\n",
    "\n",
    "search_polygon_ll = Polygon(search_buffer_ll)\n"
   ]
  },
  {
   "cell_type": "code",
   "execution_count": 17,
   "id": "bb8d0761-4730-4df1-9985-e6b22a6164e3",
   "metadata": {},
   "outputs": [],
   "source": [
    "# create GeoDataFrame with coordinate reference system and polygon geometry\n",
    "search_circle_gdf = gpd.GeoDataFrame(index = [0], crs = 'epsg:4326', geometry = [search_polygon_ll])"
   ]
  },
  {
   "cell_type": "code",
   "execution_count": 18,
   "id": "b3f2a91a-82f5-4d0a-90e0-47b1457c8f1e",
   "metadata": {
    "tags": []
   },
   "outputs": [],
   "source": [
    "# save GeoJSON file\n",
    "search_circle_gdf.to_file(\"search_circle_ll.geojson\", driver=\"GeoJSON\")  "
   ]
  },
  {
   "cell_type": "code",
   "execution_count": 19,
   "id": "d490d265-5174-49f0-9d4d-adaae93e40ca",
   "metadata": {
    "tags": []
   },
   "outputs": [
    {
     "data": {
      "text/plain": [
       "<AxesSubplot: >"
      ]
     },
     "execution_count": 19,
     "metadata": {},
     "output_type": "execute_result"
    },
    {
     "data": {
      "image/png": "[encoded data removed]",
      "text/plain": [
       "<Figure size 640x480 with 1 Axes>"
      ]
     },
     "metadata": {},
     "output_type": "display_data"
    }
   ],
   "source": [
    "search_circle_gdf.plot()"
   ]
  },
  {
   "cell_type": "code",
   "execution_count": 20,
   "id": "291af17c-6f8c-450f-9e18-66b3c864f7d7",
   "metadata": {
    "tags": []
   },
   "outputs": [
    {
     "data": {
      "text/html": [
       "<div style=\"width:100%;\"><div style=\"position:relative;width:100%;height:0;padding-bottom:60%;\"><span style=\"color:#565656\">Make this Notebook Trusted to load map: File -> Trust Notebook</span><iframe srcdoc=\"&lt;!DOCTYPE html&gt;\n",
       "&lt;html&gt;\n",
       "&lt;head&gt;\n",
       "    \n",
       "    &lt;meta http-equiv=&quot;content-type&quot; content=&quot;text/html; charset=UTF-8&quot; /&gt;\n",
       "    \n",
       "        &lt;script&gt;\n",
       "            L_NO_TOUCH = false;\n",
       "            L_DISABLE_3D = false;\n",
       "        &lt;/script&gt;\n",
       "    \n",
       "    &lt;style&gt;html, body {width: 100%;height: 100%;margin: 0;padding: 0;}&lt;/style&gt;\n",
       "    &lt;style&gt;#map {position:absolute;top:0;bottom:0;right:0;left:0;}&lt;/style&gt;\n",
       "    &lt;script src=&quot;https://cdn.jsdelivr.net/npm/leaflet@1.9.3/dist/leaflet.js&quot;&gt;&lt;/script&gt;\n",
       "    &lt;script src=&quot;https://code.jquery.com/jquery-1.12.4.min.js&quot;&gt;&lt;/script&gt;\n",
       "    &lt;script src=&quot;https://cdn.jsdelivr.net/npm/bootstrap@5.2.2/dist/js/bootstrap.bundle.min.js&quot;&gt;&lt;/script&gt;\n",
       "    &lt;script src=&quot;https://cdnjs.cloudflare.com/ajax/libs/Leaflet.awesome-markers/2.0.2/leaflet.awesome-markers.js&quot;&gt;&lt;/script&gt;\n",
       "    &lt;link rel=&quot;stylesheet&quot; href=&quot;https://cdn.jsdelivr.net/npm/leaflet@1.9.3/dist/leaflet.css&quot;/&gt;\n",
       "    &lt;link rel=&quot;stylesheet&quot; href=&quot;https://cdn.jsdelivr.net/npm/bootstrap@5.2.2/dist/css/bootstrap.min.css&quot;/&gt;\n",
       "    &lt;link rel=&quot;stylesheet&quot; href=&quot;https://netdna.bootstrapcdn.com/bootstrap/3.0.0/css/bootstrap.min.css&quot;/&gt;\n",
       "    &lt;link rel=&quot;stylesheet&quot; href=&quot;https://cdn.jsdelivr.net/npm/@fortawesome/fontawesome-free@6.2.0/css/all.min.css&quot;/&gt;\n",
       "    &lt;link rel=&quot;stylesheet&quot; href=&quot;https://cdnjs.cloudflare.com/ajax/libs/Leaflet.awesome-markers/2.0.2/leaflet.awesome-markers.css&quot;/&gt;\n",
       "    &lt;link rel=&quot;stylesheet&quot; href=&quot;https://cdn.jsdelivr.net/gh/python-visualization/folium/folium/templates/leaflet.awesome.rotate.min.css&quot;/&gt;\n",
       "    \n",
       "            &lt;meta name=&quot;viewport&quot; content=&quot;width=device-width,\n",
       "                initial-scale=1.0, maximum-scale=1.0, user-scalable=no&quot; /&gt;\n",
       "            &lt;style&gt;\n",
       "                #map_159a266c402b1542490b3e3e7e1fcd20 {\n",
       "                    position: relative;\n",
       "                    width: 100.0%;\n",
       "                    height: 100.0%;\n",
       "                    left: 0.0%;\n",
       "                    top: 0.0%;\n",
       "                }\n",
       "                .leaflet-container { font-size: 1rem; }\n",
       "            &lt;/style&gt;\n",
       "        \n",
       "    \n",
       "                    &lt;style&gt;\n",
       "                        .foliumtooltip {\n",
       "                            \n",
       "                        }\n",
       "                       .foliumtooltip table{\n",
       "                            margin: auto;\n",
       "                        }\n",
       "                        .foliumtooltip tr{\n",
       "                            text-align: left;\n",
       "                        }\n",
       "                        .foliumtooltip th{\n",
       "                            padding: 2px; padding-right: 8px;\n",
       "                        }\n",
       "                    &lt;/style&gt;\n",
       "            \n",
       "&lt;/head&gt;\n",
       "&lt;body&gt;\n",
       "    \n",
       "    \n",
       "            &lt;div class=&quot;folium-map&quot; id=&quot;map_159a266c402b1542490b3e3e7e1fcd20&quot; &gt;&lt;/div&gt;\n",
       "        \n",
       "&lt;/body&gt;\n",
       "&lt;script&gt;\n",
       "    \n",
       "    \n",
       "            var map_159a266c402b1542490b3e3e7e1fcd20 = L.map(\n",
       "                &quot;map_159a266c402b1542490b3e3e7e1fcd20&quot;,\n",
       "                {\n",
       "                    center: [69.02856747155181, -49.4797934493365],\n",
       "                    crs: L.CRS.EPSG3857,\n",
       "                    zoom: 10,\n",
       "                    zoomControl: true,\n",
       "                    preferCanvas: false,\n",
       "                }\n",
       "            );\n",
       "            L.control.scale().addTo(map_159a266c402b1542490b3e3e7e1fcd20);\n",
       "\n",
       "            \n",
       "\n",
       "        \n",
       "    \n",
       "            var tile_layer_12f8818f3706d09cf715dfb0e0798fdf = L.tileLayer(\n",
       "                &quot;https://{s}.tile.openstreetmap.org/{z}/{x}/{y}.png&quot;,\n",
       "                {&quot;attribution&quot;: &quot;Data by \\u0026copy; \\u003ca target=\\&quot;_blank\\&quot; href=\\&quot;http://openstreetmap.org\\&quot;\\u003eOpenStreetMap\\u003c/a\\u003e, under \\u003ca target=\\&quot;_blank\\&quot; href=\\&quot;http://www.openstreetmap.org/copyright\\&quot;\\u003eODbL\\u003c/a\\u003e.&quot;, &quot;detectRetina&quot;: false, &quot;maxNativeZoom&quot;: 18, &quot;maxZoom&quot;: 18, &quot;minZoom&quot;: 0, &quot;noWrap&quot;: false, &quot;opacity&quot;: 1, &quot;subdomains&quot;: &quot;abc&quot;, &quot;tms&quot;: false}\n",
       "            ).addTo(map_159a266c402b1542490b3e3e7e1fcd20);\n",
       "        \n",
       "    \n",
       "            map_159a266c402b1542490b3e3e7e1fcd20.fitBounds(\n",
       "                [[69.02834264139734, -49.480421637743866], [69.02879230170626, -49.47916526092913]],\n",
       "                {}\n",
       "            );\n",
       "        \n",
       "    \n",
       "        function geo_json_73e5eb127817f8beddaec4ab126b71eb_styler(feature) {\n",
       "            switch(feature.id) {\n",
       "                default:\n",
       "                    return {&quot;fillOpacity&quot;: 0.5, &quot;weight&quot;: 2};\n",
       "            }\n",
       "        }\n",
       "        function geo_json_73e5eb127817f8beddaec4ab126b71eb_highlighter(feature) {\n",
       "            switch(feature.id) {\n",
       "                default:\n",
       "                    return {&quot;fillOpacity&quot;: 0.75};\n",
       "            }\n",
       "        }\n",
       "        function geo_json_73e5eb127817f8beddaec4ab126b71eb_pointToLayer(feature, latlng) {\n",
       "            var opts = {&quot;bubblingMouseEvents&quot;: true, &quot;color&quot;: &quot;#3388ff&quot;, &quot;dashArray&quot;: null, &quot;dashOffset&quot;: null, &quot;fill&quot;: true, &quot;fillColor&quot;: &quot;#3388ff&quot;, &quot;fillOpacity&quot;: 0.2, &quot;fillRule&quot;: &quot;evenodd&quot;, &quot;lineCap&quot;: &quot;round&quot;, &quot;lineJoin&quot;: &quot;round&quot;, &quot;opacity&quot;: 1.0, &quot;radius&quot;: 2, &quot;stroke&quot;: true, &quot;weight&quot;: 3};\n",
       "            \n",
       "            let style = geo_json_73e5eb127817f8beddaec4ab126b71eb_styler(feature)\n",
       "            Object.assign(opts, style)\n",
       "            \n",
       "            return new L.CircleMarker(latlng, opts)\n",
       "        }\n",
       "\n",
       "        function geo_json_73e5eb127817f8beddaec4ab126b71eb_onEachFeature(feature, layer) {\n",
       "            layer.on({\n",
       "                mouseout: function(e) {\n",
       "                    if(typeof e.target.setStyle === &quot;function&quot;){\n",
       "                        geo_json_73e5eb127817f8beddaec4ab126b71eb.resetStyle(e.target);\n",
       "                    }\n",
       "                },\n",
       "                mouseover: function(e) {\n",
       "                    if(typeof e.target.setStyle === &quot;function&quot;){\n",
       "                        const highlightStyle = geo_json_73e5eb127817f8beddaec4ab126b71eb_highlighter(e.target.feature)\n",
       "                        e.target.setStyle(highlightStyle);\n",
       "                    }\n",
       "                },\n",
       "            });\n",
       "        };\n",
       "        var geo_json_73e5eb127817f8beddaec4ab126b71eb = L.geoJson(null, {\n",
       "                onEachFeature: geo_json_73e5eb127817f8beddaec4ab126b71eb_onEachFeature,\n",
       "            \n",
       "                style: geo_json_73e5eb127817f8beddaec4ab126b71eb_styler,\n",
       "                pointToLayer: geo_json_73e5eb127817f8beddaec4ab126b71eb_pointToLayer\n",
       "        });\n",
       "\n",
       "        function geo_json_73e5eb127817f8beddaec4ab126b71eb_add (data) {\n",
       "            geo_json_73e5eb127817f8beddaec4ab126b71eb\n",
       "                .addData(data)\n",
       "                .addTo(map_159a266c402b1542490b3e3e7e1fcd20);\n",
       "        }\n",
       "            geo_json_73e5eb127817f8beddaec4ab126b71eb_add({&quot;bbox&quot;: [-49.480421637743866, 69.02834264139734, -49.47916526092913, 69.02879230170626], &quot;features&quot;: [{&quot;bbox&quot;: [-49.480421637743866, 69.02834264139734, -49.47916526092913, 69.02879230170626], &quot;geometry&quot;: {&quot;coordinates&quot;: [[[-49.47916526092913, 69.02856747040093], [-49.47916828645535, 69.02854543320319], [-49.479177332623784, 69.0285236082575], [-49.479192312297535, 69.02850220574909], [-49.47921308119813, 69.02848143179429], [-49.47923943929568, 69.02846148645553], [-49.479271132735775, 69.02844256181487], [-49.47930785628471, 69.02842484012406], [-49.47934925626935, 69.02840849204955], [-49.47939493398346, 69.02839367502901], [-49.47944444952743, 69.02838053175523], [-49.47949732604479, 69.02836918880199], [-49.47955305431434, 69.02835975540528], [-49.47961109765388, 69.02835232241134], [-49.479670897088354, 69.02834696140192], [-49.479731876732544, 69.02834372400496], [-49.4797934493365, 69.02834264139734], [-49.47985502194045, 69.02834372400496], [-49.47991600158464, 69.02834696140192], [-49.47997580101912, 69.02835232241134], [-49.48003384435866, 69.02835975540528], [-49.4800895726282, 69.02836918880199], [-49.48014244914557, 69.02838053175523], [-49.480191964689546, 69.02839367502901], [-49.480237642403644, 69.02840849204955], [-49.48027904238829, 69.02842484012406], [-49.48031576593722, 69.02844256181487], [-49.48034745937731, 69.02846148645553], [-49.48037381747486, 69.02848143179429], [-49.48039458637547, 69.02850220574909], [-49.48040956604921, 69.0285236082575], [-49.48041861221765, 69.02854543320319], [-49.480421637743866, 69.02856747040093], [-49.48041861347232, 69.0285895076208], [-49.480409568510325, 69.02861133263197], [-49.48039458994844, 69.02863273524673], [-49.48037382202241, 69.02865350934468], [-49.48034746472466, 69.02867345485782], [-49.48031577187887, 69.02869237969746], [-49.48027904869591, 69.02871010160416], [-49.480237648834844, 69.02872644990319], [-49.48019197099717, 69.02874126714826], [-49.48014245508722, 69.02875441063793], [-49.480089577975555, 69.02876575379014], [-49.4800338489062, 69.02877518736126], [-49.4799758045921, 69.0287826204983], [-49.479916004045755, 69.02878798161409], [-49.47985502319512, 69.02879121907655], [-49.4797934493365, 69.02879230170626], [-49.47973187547788, 69.02879121907655], [-49.47967089462724, 69.02878798161409], [-49.479611094080894, 69.0287826204983], [-49.47955304976679, 69.02877518736126], [-49.47949732069744, 69.02876575379014], [-49.47944444358578, 69.02875441063793], [-49.47939492767583, 69.02874126714826], [-49.47934924983815, 69.02872644990319], [-49.47930784997708, 69.02871010160416], [-49.479271126794124, 69.02869237969746], [-49.47923943394834, 69.02867345485782], [-49.47921307665059, 69.02865350934468], [-49.479192308724556, 69.02863273524673], [-49.47917733016267, 69.02861133263197], [-49.47916828520068, 69.0285895076208], [-49.47916526092913, 69.02856747040093]]], &quot;type&quot;: &quot;Polygon&quot;}, &quot;id&quot;: &quot;0&quot;, &quot;properties&quot;: {}, &quot;type&quot;: &quot;Feature&quot;}], &quot;type&quot;: &quot;FeatureCollection&quot;});\n",
       "\n",
       "        \n",
       "    \n",
       "    geo_json_73e5eb127817f8beddaec4ab126b71eb.bindTooltip(\n",
       "    function(layer){\n",
       "    let div = L.DomUtil.create(&#x27;div&#x27;);\n",
       "    \n",
       "    return div\n",
       "    }\n",
       "    ,{&quot;className&quot;: &quot;foliumtooltip&quot;, &quot;sticky&quot;: true});\n",
       "                     \n",
       "&lt;/script&gt;\n",
       "&lt;/html&gt;\" style=\"position:absolute;width:100%;height:100%;left:0;top:0;border:none !important;\" allowfullscreen webkitallowfullscreen mozallowfullscreen></iframe></div></div>"
      ],
      "text/plain": [
       "<folium.folium.Map at 0x7f4c4c014f40>"
      ]
     },
     "execution_count": 20,
     "metadata": {},
     "output_type": "execute_result"
    }
   ],
   "source": [
    "search_circle_gdf.explore()"
   ]
  },
  {
   "cell_type": "code",
   "execution_count": 21,
   "id": "ecfb37cc-19ad-4ebb-a0cc-a3e02eb2c9e0",
   "metadata": {
    "tags": []
   },
   "outputs": [],
   "source": [
    "#print(p)"
   ]
  },
  {
   "cell_type": "markdown",
   "id": "7310c9af-b0ce-432c-91f7-7b7d20acbc6e",
   "metadata": {
    "user_expressions": []
   },
   "source": [
    "'PROJCS[\"WGS 84 / NSIDC Sea Ice Polar Stereographic North\",GEOGCS[\"WGS 84\",DATUM[\"WGS_1984\",SPHEROID[\"WGS 84\",6378137,298.257223563,AUTHORITY[\"EPSG\",\"7030\"]],AUTHORITY[\"EPSG\",\"6326\"]],PRIMEM[\"Greenwich\",0],UNIT[\"degree\",0.0174532925199433,AUTHORITY[\"EPSG\",\"9122\"]],AUTHORITY[\"EPSG\",\"4326\"]],PROJECTION[\"Polar_Stereographic\"],PARAMETER[\"latitude_of_origin\",70],PARAMETER[\"central_meridian\",-30],PARAMETER[\"false_easting\",0],PARAMETER[\"false_northing\",0],UNIT[\"metre\",1],AXIS[\"Easting\",SOUTH],AXIS[\"Northing\",SOUTH]]'"
   ]
  },
  {
   "cell_type": "code",
   "execution_count": 22,
   "id": "0b332bde-866c-48b1-8866-6dcbdbe7373b",
   "metadata": {},
   "outputs": [],
   "source": [
    "#from pyproj import Transformer"
   ]
  }
 ],
 "metadata": {
  "kernelspec": {
   "display_name": "Python 3 (ipykernel)",
   "language": "python",
   "name": "python3"
  },
  "language_info": {
   "codemirror_mode": {
    "name": "ipython",
    "version": 3
   },
   "file_extension": ".py",
   "mimetype": "text/x-python",
   "name": "python",
   "nbconvert_exporter": "python",
   "pygments_lexer": "ipython3",
   "version": "3.10.12"
  }
 },
 "nbformat": 4,
 "nbformat_minor": 5
}
