{
 "cells": [
  {
   "cell_type": "code",
   "execution_count": 12,
   "id": "d910105a-8f4f-42ba-a061-ee41636ab1ca",
   "metadata": {
    "tags": []
   },
   "outputs": [],
   "source": [
    "import os\n",
    "import requests\n",
    "import zipfile\n",
    "import shutil\n",
    "import numpy as np\n",
    "from tqdm import tqdm"
   ]
  },
  {
   "cell_type": "code",
   "execution_count": 13,
   "id": "b2f9811c-224e-434d-9cad-47d5869d12a4",
   "metadata": {
    "tags": []
   },
   "outputs": [],
   "source": [
    "# for downloading all KML files (need to update url list manually)\n",
    "def download_kmls(download_dir_kmls_zip, kml_url_list=None, download_zip=True):\n",
    "    if not kml_url_list:\n",
    "        kml_url_list = ['https://icesat-2.gsfc.nasa.gov/sites/default/files/page_files/IS2_RGTs_cycle1_date_time.zip',\n",
    "                        'https://icesat-2.gsfc.nasa.gov/sites/default/files/page_files/IS2_RGTs_cycle2_date_time.zip',\n",
    "                        'https://icesat-2.gsfc.nasa.gov/sites/default/files/page_files/IS2_RGTs_cycle3_date_time_0.zip',\n",
    "                        'https://icesat-2.gsfc.nasa.gov/sites/default/files/page_files/IS2_RGTs_cycle4_date_time_rev2_0.zip',\n",
    "                        'https://icesat-2.gsfc.nasa.gov/sites/default/files/page_files/IS2_RGTs_cycle5_date_time_rev3.zip',\n",
    "                        'https://icesat-2.gsfc.nasa.gov/sites/default/files/page_files/IS2_RGTs_cycle6_date_time.zip',\n",
    "                        'https://icesat-2.gsfc.nasa.gov/sites/default/files/page_files/IS2_RGTs_cycle7_date_time.zip',\n",
    "                        'https://icesat-2.gsfc.nasa.gov/sites/default/files/page_files/IS2_RGTs_cycle8_date_time.zip',\n",
    "                        'https://icesat-2.gsfc.nasa.gov/sites/default/files/page_files/IS2_RGTs_cycle9_date_time.zip',\n",
    "                        'https://icesat-2.gsfc.nasa.gov/sites/default/files/page_files/IS2_RGTs_cycle10_date_time.zip',\n",
    "                        'https://icesat-2.gsfc.nasa.gov/sites/default/files/page_files/IS2_RGTs_cycle11_date_time.zip',\n",
    "                        'https://icesat-2.gsfc.nasa.gov/sites/default/files/page_files/IS2RGTscycle12datetime.zip',\n",
    "                        'https://icesat-2.gsfc.nasa.gov/sites/default/files/page_files/IS2_RGTs_cycle13_date_time.zip',\n",
    "                        'https://icesat-2.gsfc.nasa.gov/sites/default/files/page_files/IS2_RGTs_cycle14_date_time.zip',\n",
    "                        'https://icesat-2.gsfc.nasa.gov/sites/default/files/page_files/IS2_RGTs_cycle15_date_time.zip',\n",
    "                        'https://icesat-2.gsfc.nasa.gov/sites/default/files/page_files/IS2_RGTs_cycle16_date_time.zip',\n",
    "                        'https://icesat-2.gsfc.nasa.gov/sites/default/files/page_files/IS2_RGTs_cycle17_date_time.zip',\n",
    "                        'https://icesat-2.gsfc.nasa.gov/sites/default/files/page_files/IS2_RGTs_cycle18_date_time.zip',\n",
    "                        'https://icesat-2.gsfc.nasa.gov/sites/default/files/page_files/IS2_RGTs_cycle19_date_time.zip',\n",
    "                        'https://icesat-2.gsfc.nasa.gov/sites/default/files/page_files/IS2_RGTs_cycle20_date_time.zip',\n",
    "                        'https://icesat-2.gsfc.nasa.gov/sites/default/files/page_files/IS2_RGTs_cycle21_date_time_provisional.zip'\n",
    "                       ]\n",
    "\n",
    "    # Download the Zip files\n",
    "    if not os.path.exists(download_dir_kmls_zip):\n",
    "        os.makedirs(download_dir_kmls_zip)\n",
    "        \n",
    "    if download_zip: \n",
    "        for url in kml_url_list:\n",
    "            kml_zip_fn = url[url.rfind('/')+1:]\n",
    "            kml_zip_path = download_dir_kmls_zip + '/' + kml_zip_fn\n",
    "            print('downloading', kml_zip_path)\n",
    "            response = requests.get(url, stream=True, allow_redirects=True)\n",
    "            total_size_in_bytes= int(response.headers.get('content-length', 0))\n",
    "            block_size = 1024 #1 Kibibyte\n",
    "            progress_bar = tqdm(total=total_size_in_bytes, unit='iB', unit_scale=True)\n",
    "            with open(kml_zip_path, 'wb') as file:\n",
    "                for data in response.iter_content(block_size):\n",
    "                    progress_bar.update(len(data))\n",
    "                    file.write(data)\n",
    "            progress_bar.close()\n",
    "            if total_size_in_bytes != 0 and progress_bar.n != total_size_in_bytes:\n",
    "                print(\"ERROR, something went wrong\")\n",
    "\n",
    "    # Unzip outputs\n",
    "    for z in os.listdir(download_dir_kmls_zip): \n",
    "        if z.endswith('.zip'): \n",
    "            zip_name = download_dir_kmls_zip + \"/\" + z \n",
    "            print('--> extracting', zip_name)\n",
    "            zip_ref = zipfile.ZipFile(zip_name) \n",
    "            zip_ref.extractall(download_dir_kmls_zip) \n",
    "            zip_ref.close() \n",
    "            os.remove(zip_name)\n",
    "\n",
    "    # Clean up Outputs folder by removing individual granule folders \n",
    "    print('Cleaning up outputs folder...', end=' ')\n",
    "    for root, dirs, files in os.walk(download_dir_kmls_zip, topdown=False):\n",
    "        for file in files:\n",
    "            try:\n",
    "                shutil.move(os.path.join(root, file), download_dir_kmls_zip)\n",
    "            except OSError:\n",
    "                pass\n",
    "        for name in dirs:\n",
    "            shutil.rmtree(root+'/'+name, ignore_errors=True)\n",
    "    print(' --> DONE!')\n",
    "\n",
    "    kml_filelist = [download_dir_kmls_zip+'/'+f for f in os.listdir(download_dir_kmls_zip) \\\n",
    "                    if os.path.isfile(os.path.join(download_dir_kmls_zip, f))]\n",
    "    for i in np.arange(1,21):\n",
    "        cycle_search = '_cycle%i_' % i\n",
    "        if i == 1: \n",
    "            cycle_filelist = [f for f in kml_filelist if (('_cycle' not in f) & (f[len(download_dir_kmls_zip)+1] != '.'))]\n",
    "        else:\n",
    "            cycle_filelist = [f for f in kml_filelist if ((cycle_search in f) & (f[len(download_dir_kmls_zip)+1] != '.'))]\n",
    "        print('cycle %2i: %4i KMLs' % (i, len(cycle_filelist)))"
   ]
  },
  {
   "cell_type": "code",
   "execution_count": null,
   "id": "d0c06d01-51d3-48f7-b980-d4641254219b",
   "metadata": {
    "tags": []
   },
   "outputs": [
    {
     "name": "stdout",
     "output_type": "stream",
     "text": [
      "downloading /home/jovyan/shared-public/ICESat-2-Hackweek/KMLs/IS2_RGTs_cycle16_date_time.zip\n"
     ]
    },
    {
     "name": "stderr",
     "output_type": "stream",
     "text": [
      " 28%|██▊       | 42.1M/148M [12:37<25:06, 70.3kiB/s]  "
     ]
    }
   ],
   "source": [
    "# download_path = '/home/jovyan/shared-public/ICESat-2-Hackweek/ground_tracks'\n",
    "download_path = '/home/jovyan/shared-public/ICESat-2-Hackweek/KMLs'\n",
    "\n",
    "url_list = ['https://icesat-2.gsfc.nasa.gov/sites/default/files/page_files/IS2_RGTs_cycle16_date_time.zip',\n",
    "            'https://icesat-2.gsfc.nasa.gov/sites/default/files/page_files/IS2_RGTs_cycle17_date_time.zip',\n",
    "            'https://icesat-2.gsfc.nasa.gov/sites/default/files/page_files/IS2_RGTs_cycle18_date_time.zip',\n",
    "            'https://icesat-2.gsfc.nasa.gov/sites/default/files/page_files/IS2_RGTs_cycle19_date_time.zip'\n",
    "            ]\n",
    "\n",
    "download_kmls(download_path, kml_url_list=url_list, download_zip=True)"
   ]
  },
  {
   "cell_type": "code",
   "execution_count": null,
   "id": "10fec318-4cd3-48f3-a7d2-07fd2fb81f3d",
   "metadata": {},
   "outputs": [],
   "source": []
  }
 ],
 "metadata": {
  "kernelspec": {
   "display_name": "Python 3 (ipykernel)",
   "language": "python",
   "name": "python3"
  },
  "language_info": {
   "codemirror_mode": {
    "name": "ipython",
    "version": 3
   },
   "file_extension": ".py",
   "mimetype": "text/x-python",
   "name": "python",
   "nbconvert_exporter": "python",
   "pygments_lexer": "ipython3",
   "version": "3.10.12"
  }
 },
 "nbformat": 4,
 "nbformat_minor": 5
}
