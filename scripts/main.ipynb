{
 "cells": [
  {
   "cell_type": "code",
   "execution_count": 19,
   "id": "cd7a0700-ed62-47fc-92ca-733a8b20c91d",
   "metadata": {
    "tags": []
   },
   "outputs": [],
   "source": [
    "import sys\n",
    "import traceback"
   ]
  },
  {
   "cell_type": "code",
   "execution_count": 22,
   "id": "c9dbaa3b-522e-4fac-95cb-bd59a201c5b6",
   "metadata": {
    "tags": []
   },
   "outputs": [],
   "source": [
    "class EverythingAnywhereAllAtOnce:\n",
    "    \n",
    "    def __init__(self, origin, radius):\n",
    "        '''\n",
    "        :param origin: centre coordinate of Area of Interest (AOI) --> tuple (lat, lon)\n",
    "        :param radius: radius of AOI --> float (km)\n",
    "        '''\n",
    "        self.aoi = self._define_aoi(origin, radius)\n",
    "        self.rgt = None\n",
    "        self.beam_pairs = None\n",
    "    \n",
    "    def search():\n",
    "        # todo: this begins search protocol\n",
    "        all_rgt = self._parse_kml()\n",
    "        \n",
    "        intersect = self._clip_aoi(all_rgt)\n",
    "        if intersect == 1:\n",
    "            print(\"Search criteria yielded no results. Consider expanding Area Of Interest\")\n",
    "            return\n",
    "        \n",
    "    def plot(self, save_name=''):\n",
    "        '''\n",
    "        Generates an interactive plot of rgt and beam pairs on AOI\n",
    "        :param save_name: destination at which to save figure --> string\n",
    "        '''\n",
    "        # todo: Shanshan\n",
    "        \n",
    "        try:\n",
    "            assert not self.aoi is None\n",
    "            assert not self.rgt is None\n",
    "            assert not self.beam_pairs is None\n",
    "        except AssertionError:\n",
    "            print(\"ERROR: Cannot display empty search results\")\n",
    "        \n",
    "        pass\n",
    "    \n",
    "    def _define_aoi(self, origin, radius):\n",
    "        # todo: Michael\n",
    "        pass\n",
    "    \n",
    "    def _parse_kml(self):\n",
    "        # todo: Philipp\n",
    "        pass\n",
    "    \n",
    "    def _clip_aoi(self, all_rgt):\n",
    "        # todo: Adrian\n",
    "        # return exit code 1 iff intersection yields empty set, else return 0\n",
    "        pass\n",
    "    \n",
    "    def _create_beam_pairs(self):\n",
    "        # todo: Zach\n",
    "        pass\n"
   ]
  },
  {
   "cell_type": "code",
   "execution_count": 23,
   "id": "741cd664-b8ba-414b-b1dc-792fd1683a6f",
   "metadata": {
    "tags": []
   },
   "outputs": [
    {
     "name": "stdout",
     "output_type": "stream",
     "text": [
      "ERROR: Cannot display empty search results\n"
     ]
    }
   ],
   "source": [
    "eaaao = EverythingAnywhereAllAtOnce([81.05, -63.04], 40)\n",
    "eaaao.plot()"
   ]
  },
  {
   "cell_type": "code",
   "execution_count": null,
   "id": "119c8851-85d1-4c6c-b991-04bc98d02189",
   "metadata": {},
   "outputs": [],
   "source": []
  }
 ],
 "metadata": {
  "kernelspec": {
   "display_name": "Python 3 (ipykernel)",
   "language": "python",
   "name": "python3"
  },
  "language_info": {
   "codemirror_mode": {
    "name": "ipython",
    "version": 3
   },
   "file_extension": ".py",
   "mimetype": "text/x-python",
   "name": "python",
   "nbconvert_exporter": "python",
   "pygments_lexer": "ipython3",
   "version": "3.10.12"
  }
 },
 "nbformat": 4,
 "nbformat_minor": 5
}
